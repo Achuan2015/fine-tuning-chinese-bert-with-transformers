{
 "metadata": {
  "language_info": {
   "codemirror_mode": {
    "name": "ipython",
    "version": 3
   },
   "file_extension": ".py",
   "mimetype": "text/x-python",
   "name": "python",
   "nbconvert_exporter": "python",
   "pygments_lexer": "ipython3",
   "version": "3.7.3"
  },
  "orig_nbformat": 2,
  "kernelspec": {
   "name": "python373jvsc74a57bd056e331e9a2ee1d59a709fc58c9503a214b87f78fd6d7d2d4ac9f44a5699c674f",
   "display_name": "Python 3.7.3 64-bit ('base': conda)"
  }
 },
 "nbformat": 4,
 "nbformat_minor": 2,
 "cells": [
  {
   "cell_type": "code",
   "execution_count": 3,
   "metadata": {},
   "outputs": [
    {
     "output_type": "stream",
     "name": "stdout",
     "text": [
      "/Users/hrtps/Projects/momian/fine-tuning-chinese-bert-with-transformers/src\n"
     ]
    }
   ],
   "source": [
    "cd src"
   ]
  },
  {
   "cell_type": "code",
   "execution_count": 4,
   "metadata": {},
   "outputs": [],
   "source": [
    "from data_util import read_data\n",
    "from data_util import encode_data\n",
    "from sklearn.model_selection import train_test_split\n",
    "\n",
    "\n",
    "\n",
    "data_path = \"../data/sample_50_1.csv\"\n",
    "sent1, sent2, labels = read_data(data_path)\n"
   ]
  },
  {
   "cell_type": "code",
   "execution_count": 6,
   "metadata": {},
   "outputs": [],
   "source": [
    "train_sent1, val_sen1, train_sent2, val_sent2, train_label, val_label =  train_test_split(sent1, sent2, labels, test_size=0.1, random_state=42)"
   ]
  },
  {
   "cell_type": "code",
   "execution_count": 8,
   "metadata": {},
   "outputs": [
    {
     "output_type": "stream",
     "name": "stdout",
     "text": [
      "['如何知晓哺乳假的天数', '金蝶安装教程', '如何申请个人名片', '2万住房公积金可以贷多少钱', '休计划生育假要哪些材料']\n['哪些人可以请年假', '考勤软件登录失败', '名片申请', '能贷多少住房公积金贷款', '护理假要一次休完吗']\n[0, 0, 1, 1, 0]\n"
     ]
    }
   ],
   "source": []
  },
  {
   "cell_type": "code",
   "execution_count": null,
   "metadata": {},
   "outputs": [],
   "source": [
    "encoded_sent1, encoded_sent2, labels = encode_data(sent1, sent2, labels)"
   ]
  }
 ]
}