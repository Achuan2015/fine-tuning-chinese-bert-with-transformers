{
 "cells": [
  {
   "cell_type": "markdown",
   "metadata": {},
   "source": [
    "## deploy model"
   ]
  },
  {
   "cell_type": "code",
   "execution_count": null,
   "metadata": {},
   "outputs": [],
   "source": [
    "import torch\n",
    "from transformers import BertTokenizer, BertConfig\n",
    "from model import BertForCoSentNetwork\n",
    "\n",
    "\n",
    "model_path = \"outputs/TinyBert-50-1-cosent\"\n",
    "config = BertConfig.from_pretrained(model_path)\n",
    "\n",
    "device = torch.device('cuda') if torch.cuda.is_available() else torch.device('cpu')\n",
    "tokenizer = BertTokenizer.from_pretrained(model_path)\n",
    "\n",
    "model = BertForCoSentNetwork(model_path, config)\n",
    "model = model.to(device)"
   ]
  },
  {
   "cell_type": "code",
   "execution_count": 14,
   "metadata": {},
   "outputs": [
    {
     "name": "stdout",
     "output_type": "stream",
     "text": [
      "[ 0.03373671 -0.08522826  0.10252697 -0.02237391 -0.05156657  0.0634869\n",
      "  0.06151362 -0.04555071  0.00112326 -0.16049038]\n",
      "tensor([ 0.0337, -0.0852,  0.1025, -0.0224, -0.0516,  0.0635,  0.0615, -0.0456,\n",
      "         0.0011, -0.1605])\n"
     ]
    }
   ],
   "source": [
    "import faiss\n",
    "import torch.nn.functional as F\n",
    "import numpy as np\n",
    "import torch\n",
    "\n",
    "np.random.seed(1234)\n",
    "vector = np.random.randn(2, 200)\n",
    "vector = vector.astype(np.float32)\n",
    "vector1 = torch.from_numpy(vector)\n",
    "\n",
    "faiss.normalize_L2(vector)\n",
    "vector_norm1 = F.normalize(vector1, p=2, dim=1)\n",
    "\n",
    "print(vector[0][:10])\n",
    "print(vector_norm1[0][:10])\n"
   ]
  }
 ],
 "metadata": {
  "interpreter": {
   "hash": "dafaadbda7e2b4673c53a13d22366aab1c2a35a28f6b7c4e8046d1a490edd4db"
  },
  "kernelspec": {
   "display_name": "Python 3.8.5 64-bit ('base': conda)",
   "language": "python",
   "name": "python3"
  },
  "language_info": {
   "codemirror_mode": {
    "name": "ipython",
    "version": 3
   },
   "file_extension": ".py",
   "mimetype": "text/x-python",
   "name": "python",
   "nbconvert_exporter": "python",
   "pygments_lexer": "ipython3",
   "version": "3.8.5"
  },
  "orig_nbformat": 4
 },
 "nbformat": 4,
 "nbformat_minor": 2
}
